{
 "cells": [
  {
   "cell_type": "code",
   "execution_count": 8,
   "metadata": {
    "_cell_guid": "b1076dfc-b9ad-4769-8c92-a6c4dae69d19",
    "_uuid": "8f2839f25d086af736a60e9eeb907d3b93b6e0e5",
    "scrolled": false
   },
   "outputs": [
    {
     "data": {
      "text/html": [
       "<div>\n",
       "<style scoped>\n",
       "    .dataframe tbody tr th:only-of-type {\n",
       "        vertical-align: middle;\n",
       "    }\n",
       "\n",
       "    .dataframe tbody tr th {\n",
       "        vertical-align: top;\n",
       "    }\n",
       "\n",
       "    .dataframe thead th {\n",
       "        text-align: right;\n",
       "    }\n",
       "</style>\n",
       "<table border=\"1\" class=\"dataframe\">\n",
       "  <thead>\n",
       "    <tr style=\"text-align: right;\">\n",
       "      <th></th>\n",
       "      <th>Compound</th>\n",
       "      <th>Eg_EV</th>\n",
       "      <th>kL</th>\n",
       "      <th>Density</th>\n",
       "      <th>EV_rank</th>\n",
       "      <th>kL_rank</th>\n",
       "      <th>density_rank</th>\n",
       "      <th>rank_avg</th>\n",
       "      <th>Fractional_Favourable</th>\n",
       "    </tr>\n",
       "  </thead>\n",
       "  <tbody>\n",
       "    <tr>\n",
       "      <th>0</th>\n",
       "      <td>BiPtO3</td>\n",
       "      <td>0.540118</td>\n",
       "      <td>1.62</td>\n",
       "      <td>11.129</td>\n",
       "      <td>7</td>\n",
       "      <td>14</td>\n",
       "      <td>1</td>\n",
       "      <td>7.333333</td>\n",
       "      <td>0.755556</td>\n",
       "    </tr>\n",
       "    <tr>\n",
       "      <th>1</th>\n",
       "      <td>Pt1Si1Te1</td>\n",
       "      <td>0.180000</td>\n",
       "      <td>3.32</td>\n",
       "      <td>9.377</td>\n",
       "      <td>5</td>\n",
       "      <td>22</td>\n",
       "      <td>6</td>\n",
       "      <td>11.000000</td>\n",
       "      <td>0.633333</td>\n",
       "    </tr>\n",
       "    <tr>\n",
       "      <th>2</th>\n",
       "      <td>BaPtO3</td>\n",
       "      <td>0.088467</td>\n",
       "      <td>3.87</td>\n",
       "      <td>8.914</td>\n",
       "      <td>1</td>\n",
       "      <td>25</td>\n",
       "      <td>9</td>\n",
       "      <td>11.666667</td>\n",
       "      <td>0.611111</td>\n",
       "    </tr>\n",
       "    <tr>\n",
       "      <th>3</th>\n",
       "      <td>SrPtO3</td>\n",
       "      <td>0.148588</td>\n",
       "      <td>2.42</td>\n",
       "      <td>8.191</td>\n",
       "      <td>4</td>\n",
       "      <td>20</td>\n",
       "      <td>11</td>\n",
       "      <td>11.666667</td>\n",
       "      <td>0.611111</td>\n",
       "    </tr>\n",
       "    <tr>\n",
       "      <th>4</th>\n",
       "      <td>RbPtO3</td>\n",
       "      <td>0.148432</td>\n",
       "      <td>2.97</td>\n",
       "      <td>7.887</td>\n",
       "      <td>3</td>\n",
       "      <td>21</td>\n",
       "      <td>13</td>\n",
       "      <td>12.333333</td>\n",
       "      <td>0.588889</td>\n",
       "    </tr>\n",
       "  </tbody>\n",
       "</table>\n",
       "</div>"
      ],
      "text/plain": [
       "    Compound     Eg_EV    kL  Density  EV_rank  kL_rank  density_rank  \\\n",
       "0     BiPtO3  0.540118  1.62   11.129        7       14             1   \n",
       "1  Pt1Si1Te1  0.180000  3.32    9.377        5       22             6   \n",
       "2     BaPtO3  0.088467  3.87    8.914        1       25             9   \n",
       "3     SrPtO3  0.148588  2.42    8.191        4       20            11   \n",
       "4     RbPtO3  0.148432  2.97    7.887        3       21            13   \n",
       "\n",
       "    rank_avg  Fractional_Favourable  \n",
       "0   7.333333               0.755556  \n",
       "1  11.000000               0.633333  \n",
       "2  11.666667               0.611111  \n",
       "3  11.666667               0.611111  \n",
       "4  12.333333               0.588889  "
      ]
     },
     "execution_count": 8,
     "metadata": {},
     "output_type": "execute_result"
    }
   ],
   "source": [
    "#Here's several helpful packages to load in \n",
    "\n",
    "import numpy as np # linear algebra\n",
    "import pandas as pd # data processing, CSV file I/O (e.g. pd.read_csv)\n",
    "from sklearn import metrics\n",
    "import pylab as plt\n",
    "import matplotlib.pyplot as plt\n",
    "\n",
    "\n",
    "# Read data \n",
    "data = pd.read_csv(\"RS_TARP.csv\")         #The command inputs the dataset file RS_TARP.csv\n",
    "data.head()\n",
    "\n"
   ]
  },
  {
   "cell_type": "code",
   "execution_count": 5,
   "metadata": {},
   "outputs": [
    {
     "name": "stdout",
     "output_type": "stream",
     "text": [
      "Enter the Eg value(Only positive values): 0.54\n",
      "Enter the kl value(Only positive values): 1.62\n",
      "Enter the density value(Only positive values): 11.129\n",
      "The percentage favourability for a compound with Eg, kl and density as an electrode material is expressed as 74.581423\n"
     ]
    }
   ],
   "source": [
    "#SVR Code\n",
    "from sklearn.svm import SVR\n",
    "from sklearn.pipeline import Pipeline\n",
    "from sklearn.pipeline import make_pipeline\n",
    "from sklearn.preprocessing import StandardScaler\n",
    "from sklearn.model_selection import train_test_split\n",
    "from sklearn.model_selection import GridSearchCV \n",
    "\n",
    "X=data[['Eg_EV', 'kL', 'Density']]\n",
    "y=data.Fractional_Favourable\n",
    "X_train, X_test, y_train, y_test = train_test_split( X, y, test_size=0.1, random_state=100)\n",
    "steps = [('scaler', StandardScaler()), ('SVM', SVR())]\n",
    "pipeline = Pipeline(steps) \n",
    "grid = GridSearchCV(pipeline, param_grid= {'SVM__C': np.linspace(20,100,num=5), 'SVM__gamma':['auto'],\n",
    "                        'SVM__kernel': ['linear','rbf'],'SVM__epsilon':[0.001,0.0001,0.00001,0.1,0.01]}, cv=5)   \n",
    "\n",
    "grid.fit(X_train, y_train)\n",
    "\n",
    "# Predict Percentage Favourability\n",
    "\n",
    "a=input('Enter the Eg value(Only positive values): ');               \n",
    "b=input('Enter the kl value(Only positive values): ');\n",
    "c=input('Enter the density value(Only positive values): ');\n",
    "\n",
    "Score=grid.predict([[a,b,c]]) #The three values inside[] should be Eg, kl and density values respectively.\n",
    "\n",
    "Percent_score=Score*100;\n",
    "print('The percentage favourability for a compound with Eg, kl and density as an electrode material is expressed as %f'\n",
    "      %Percent_score)     \n",
    "                   #The score out of 100 predicts how useful the compound is for its application as an anode material\n",
    "                   #on the basis of the its Energy gap, thermal conductivity and volumetric density values.\n",
    "    "
   ]
  },
  {
   "cell_type": "code",
   "execution_count": 6,
   "metadata": {},
   "outputs": [
    {
     "name": "stdout",
     "output_type": "stream",
     "text": [
      "The mean absolute error obtained using support vector regression is 0.0272\n",
      "The mean squared error obtained using support vector regression is 0.0010\n",
      "The model accuracy obtained using training data is 0.9908\n"
     ]
    }
   ],
   "source": [
    "#Performance metrics\n",
    "test_pred = grid.predict(X_test)\n",
    "MAE=metrics.mean_absolute_error(test_pred, y_test)\n",
    "print('The mean absolute error obtained using support vector regression is %0.4f' %MAE)       #Finding the mean absolute error\n",
    "MSE=metrics.mean_squared_error(test_pred, y_test)\n",
    "print('The mean squared error obtained using support vector regression is %0.4f' %MSE)        #Finding the mean squared error\n",
    "svr_score=grid.score(X_train,y_train)\n",
    "print('The model accuracy obtained using training data is %0.4f' %svr_score)    "
   ]
  },
  {
   "cell_type": "code",
   "execution_count": 49,
   "metadata": {},
   "outputs": [
    {
     "data": {
      "image/png": "[encoded data removed]",
      "text/plain": [
       "<Figure size 432x288 with 1 Axes>"
      ]
     },
     "metadata": {
      "needs_background": "light"
     },
     "output_type": "display_data"
    }
   ],
   "source": [
    "#Plot of Eg rank, density rank and kl rank for the dataset\n",
    "X = np.linspace(0, 30, 1)\n",
    "plt.scatter(data.Compound, data.EV_rank)\n",
    "plt.scatter(data.Compound, data.density_rank)\n",
    "plt.scatter(data.Compound, data.kL_rank)\n",
    "plt.plot(data.Compound, data.rank_avg)\n",
    "plt.legend([\"Rank\", \"Eg(EV)\", \"Density\", \"kL\"])\n",
    "plt.xticks(rotation=90)\n",
    "plt.gca().invert_yaxis()\n",
    "plt.show()"
   ]
  },
  {
   "cell_type": "code",
   "execution_count": 7,
   "metadata": {},
   "outputs": [
    {
     "data": {
      "text/plain": [
       "{'SVM__C': 20.0,\n",
       " 'SVM__epsilon': 0.01,\n",
       " 'SVM__gamma': 'auto',\n",
       " 'SVM__kernel': 'rbf'}"
      ]
     },
     "execution_count": 7,
     "metadata": {},
     "output_type": "execute_result"
    }
   ],
   "source": [
    "#Methodology to find the optimal parameters manually\n",
    "grid.best_params_\n"
   ]
  },
  {
   "cell_type": "code",
   "execution_count": 11,
   "metadata": {},
   "outputs": [
    {
     "name": "stdout",
     "output_type": "stream",
     "text": [
      "weights: \n",
      "[[-0.16294029 -0.01305827  0.0337422 ]]\n",
      "Bias: \n",
      "[0.45616875]\n"
     ]
    }
   ],
   "source": [
    "#Using best parameters of a linear kernel\n",
    "svr=SVR(C=40.0, epsilon=0.1, kernel='linear');\n",
    "svr.fit(X_train,y_train)\n",
    "# Code for equation of hyperplane in linear kernel\n",
    "print('weights: ')\n",
    "print(svr.coef_)\n",
    "print('Bias: ')\n",
    "print(svr.intercept_)\n",
    "#H(w)=w*X + bias\n"
   ]
  },
  {
   "cell_type": "code",
   "execution_count": null,
   "metadata": {},
   "outputs": [],
   "source": [
    "#The equation of hyperplane using linear kernel is Y = (-0.16294029*x1) - (0.01305827*x2) +\n",
    "#                                    (0.0337422*x3) + 0.45616875\n",
    "# x1 is the energy gap(eV) value, \n",
    "# x2 is the thermal conductivity(W/mK) value,\n",
    "# x3 is the density of the material(kg/m3) value\n",
    "# Y is the fractional favourability favourability\n"
   ]
  }
 ],
 "metadata": {
  "kernelspec": {
   "display_name": "Python 3 (ipykernel)",
   "language": "python",
   "name": "python3"
  },
  "language_info": {
   "codemirror_mode": {
    "name": "ipython",
    "version": 3
   },
   "file_extension": ".py",
   "mimetype": "text/x-python",
   "name": "python",
   "nbconvert_exporter": "python",
   "pygments_lexer": "ipython3",
   "version": "3.9.7"
  }
 },
 "nbformat": 4,
 "nbformat_minor": 1
}
